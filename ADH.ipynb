{
 "cells": [
  {
   "cell_type": "markdown",
   "id": "c65684cf",
   "metadata": {},
   "source": [
    "## Antidiuretic Hormone (ADH)"
   ]
  },
  {
   "cell_type": "markdown",
   "id": "45bee93d",
   "metadata": {},
   "source": [
    "releasing by Supraoptic nucleus\n",
    "***\n",
    "**Low blood pressure and high plasma osmolality**\n",
    "<br>Osmoreceptors and receptors, excited by low blood pressure, is based on the hypothalamus, induce releasing ADH. </br>\n",
    "***\n",
    "**A part of nefrone:**\n",
    "- glomerulus\n",
    "- Bowman's capsule\n",
    "- proximal convoluted tubule\n",
    "- loop of Henle\n",
    "- distal convoluted tubule\n",
    "- collecting duct\n",
    "***\n",
    "**Receptor in cells on the collecting duct**\n",
    "<br>ADH binds on the cell's membrane receptor (V2), activate Gs signal path, pkA stimulate gen, which produced aquaporins (type 2) in vesiculeuse. On the membrane aquaporins (type 3 and 4) is always open. pkA also phosphorelate a fusing the vesiculeuse aquaporins with the membrane (on side, contacted with collecting duct) and water from collecting duct migrate into cell and then into blood, raisng the blood pressure and reducing the plasma osmolality.</br>\n",
    "***\n",
    "**Receptor on the glomerulus**\n",
    "<br>ADH binds on the cell's membrane receptor (V1), activate Gs signal path, pkC stimulate extruction of Ca+, which activate vasoconstriction (decrease the diameter of glomerulus) and increase the blood pressure.</br>"
   ]
  }
 ],
 "metadata": {
  "kernelspec": {
   "display_name": "Python 3 (ipykernel)",
   "language": "python",
   "name": "python3"
  },
  "language_info": {
   "codemirror_mode": {
    "name": "ipython",
    "version": 3
   },
   "file_extension": ".py",
   "mimetype": "text/x-python",
   "name": "python",
   "nbconvert_exporter": "python",
   "pygments_lexer": "ipython3",
   "version": "3.8.10"
  }
 },
 "nbformat": 4,
 "nbformat_minor": 5
}
