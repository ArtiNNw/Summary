{
 "cells": [
  {
   "cell_type": "markdown",
   "id": "62ad3b13",
   "metadata": {},
   "source": [
    "## Oxytocin"
   ]
  },
  {
   "cell_type": "markdown",
   "id": "2c28ca48",
   "metadata": {},
   "source": [
    "releasing by Paraventricular nucleus\n",
    "***\n",
    "**Birthing process**\n",
    "- cervix of the uterus consist of:\n",
    "    - endomitrium\n",
    "    - myometrium\n",
    "    - perimetrium \n",
    "   \n",
    "<br>On the perimetrium is located the stretch receptors, which activation send signals into hypotalamus (PV nucleus). Secreted oxytocin attach on the receptor (on perimetrium) and started the Gq pathway. It cause to increase Ca+ in the cell and subsequent myometrium contraction. </br>\n",
    "***\n",
    "**Breastfeeding** (sukcling)\n",
    "- alveolar cells with milk\n",
    "- myoepithelial cells\n",
    "- lactiferous duct\n",
    "- nipple\n",
    "\n",
    "<br>**Milk letdown reflex**.</br>\n",
    "Sukcling of the nipple activated mechanoreceptors, signal pick up in to hypotalamus, oxitocin relised and affected on myoepithelial cells, inducing they contraction. Myoepithelial cells pressure on alveolar cells and milk is ejected.\n",
    "***\n",
    "Associated with love, compassion, cuddle"
   ]
  }
 ],
 "metadata": {
  "kernelspec": {
   "display_name": "Python 3 (ipykernel)",
   "language": "python",
   "name": "python3"
  },
  "language_info": {
   "codemirror_mode": {
    "name": "ipython",
    "version": 3
   },
   "file_extension": ".py",
   "mimetype": "text/x-python",
   "name": "python",
   "nbconvert_exporter": "python",
   "pygments_lexer": "ipython3",
   "version": "3.8.10"
  }
 },
 "nbformat": 4,
 "nbformat_minor": 5
}
