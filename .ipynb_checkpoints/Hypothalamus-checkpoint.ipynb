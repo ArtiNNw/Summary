{
 "cells": [
  {
   "cell_type": "markdown",
   "id": "a0de20d2",
   "metadata": {},
   "source": [
    "# Hypothalamus\n",
    "***\n",
    "**nucleus** - group of cell's body collected together\n",
    "<br>\n",
    "**tract** - grope of axonse gropted together in cns\n",
    "***"
   ]
  },
  {
   "cell_type": "markdown",
   "id": "bcc1e4f6",
   "metadata": {},
   "source": [
    "#### Posterior Pituitary Connection \n",
    "(neurohipofisis; neural tissue)\n",
    "<br>\n",
    "Hypothalamic-hypophyseal tract\n",
    "***\n",
    "**Supraoptic nucleus**\n",
    "- <ins>anti-dioretic hormon (ADH; vasopressin)</ins>\n",
    "- stimulated by:\n",
    "    - low blood volume (low blood pressure)\n",
    "    - high plasma osmolality (high concentration of electrolytes; hypotonic)\n",
    "    - pain\n",
    "- inhibit opposide effects and **alcohol**\n",
    "***\n",
    "**Paraventricular nucleus**\n",
    "- <ins>oxytocin</ins>\n",
    "- stimulated by:\n",
    "    - birthing process\n",
    "    - sukcling\n",
    "    - ejaculation"
   ]
  },
  {
   "cell_type": "markdown",
   "id": "f2a9abe0",
   "metadata": {},
   "source": [
    "#### Anterior Pituitary Connection \n",
    "Hypophyseal portal system - two capillary beds connected by portal vein\n",
    "***\n",
    "Releasing and inhibiting hormones (\\*RH, \\*IH) circulated by hypophyseal portal system to specific cells and stimulate them. This cells produce other hormon\n",
    "***\n",
    "**Paraventricular nucleus**\n",
    "- <ins>CRH - corticotropin releasing hormone</ins>\n",
    "- specific cell - corticotrope:\n",
    "    - $\\alpha$MSH - alpha melanocyte stimulating hormone\n",
    "    - ACTH - AdrenoCorticoTropic hormone\n",
    "- stimulated by:\n",
    "    - fever\n",
    "    - low blood glucose lvl (hypoglycemia)\n",
    "    - stress\n",
    "<br>\n",
    "</br>\n",
    "- <ins>TRH - thyrotropin releasing hormone</ins>\n",
    "- specific cell - thyrotrope:\n",
    "    - TSH - thirostimulate hormon\n",
    "- stimulated by:\n",
    "    - cold temp\n",
    "    - pregnancy\n",
    "***\n",
    "**Arcuate nucleus**\n",
    "- <ins>GH RH - Growth hormon releasing hormone</ins> or GH IH (somatostatin)\n",
    "- specific cell - somatotrope:\n",
    "    - GH - Growth hormon\n",
    "- stimulated by:\n",
    "    - low blood glucose lvl (hypoglycemia)\n",
    "    - high lvl of amino acid in the blood\n",
    "    - low lvl of fatty acid in the blood\n",
    "    - exercises\n",
    "<br>\n",
    "</br>\n",
    "- <ins>PIH - Prolactin inhibiting hormone (Dopamine)</ins>\n",
    "- specific cell - lactotrope (with low lvl of dopamin):\n",
    "    - Prolactin\n",
    "- stimulated by:\n",
    "    - breastfeeding\n",
    "    - estrogen lvl\n",
    "    - birth control\n",
    "***\n",
    "**Pre-optic nucleus**\n",
    "- <ins>GnRH - Gonadotropin releasing hormone</ins>\n",
    "- specific cell - gonadotrope:\n",
    "    - FSH - foliculostimalation hormone (if low lvl of GnRH)\n",
    "    - LH - luteinizing hormone (if high lvl of GnRH)\n",
    "- stimulated by:\n",
    "    - ???"
   ]
  },
  {
   "cell_type": "code",
   "execution_count": null,
   "id": "ff8cc998",
   "metadata": {},
   "outputs": [],
   "source": []
  }
 ],
 "metadata": {
  "kernelspec": {
   "display_name": "Python 3 (ipykernel)",
   "language": "python",
   "name": "python3"
  },
  "language_info": {
   "codemirror_mode": {
    "name": "ipython",
    "version": 3
   },
   "file_extension": ".py",
   "mimetype": "text/x-python",
   "name": "python",
   "nbconvert_exporter": "python",
   "pygments_lexer": "ipython3",
   "version": "3.8.10"
  }
 },
 "nbformat": 4,
 "nbformat_minor": 5
}
