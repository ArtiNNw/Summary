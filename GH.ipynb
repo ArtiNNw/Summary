{
 "cells": [
  {
   "cell_type": "markdown",
   "id": "4347d567",
   "metadata": {},
   "source": [
    "## Growth Hormone"
   ]
  },
  {
   "cell_type": "markdown",
   "id": "3d61426b",
   "metadata": {},
   "source": [
    "GH HR releasing by Arcuate nucleus, and GH - by somatotrope\n",
    "***\n",
    "**GH**\n",
    "<br>increases:</br>\n",
    "- in liver\n",
    "    - IGF-1 production\n",
    "    <br>GH boundes on the liver's receptor and activate enzime - Janus kinase (JAK), which phosphorylate STAT (signal trasducer activator of transcription). In results, protein - IGF-1 (insulin-like growth factor type 1) is secreted in blood </br>\n",
    "    - gluconeogenesis\n",
    "    <br>Got the glycerol (and fatty acids) formed in lipolysis process from blood\n",
    "    \n",
    "    </br>\n",
    "- in adipose tissue\n",
    "    - lypolisis\n",
    "     <br>Binds on the receptor and trigger intracellular mechanith activating enzyme - HSL (hormone sensitive lipase)which breaking down triglycerides to glycerol and fatty acids in blood - lipolysis</br>\n",
    "    \n",
    "    </br>\n",
    "- in muscles\n",
    "    - amino acids uptake\n",
    "***\n",
    "**IGF-1**\n",
    "<br>increases:\n",
    "- in muscles\n",
    "    - amino acids uptake\n",
    "    <br>IGF-1 activate receptor on muscle -> open the channel for amino acids (placed in blood). IGF-1 linked up synthesised protein and amino acids -> ...\n",
    "    </br>\n",
    "    - ... -> protein sytesis\n",
    "    \n",
    "- in bones\n",
    "    - regulate osteoblastic and osteoclastic activity (endochondral ossification)\n",
    "    - collagen type 2 production\n",
    "    - proteoglycans (structured the  tissue)\n",
    "    \n",
    "- in cartilage\n",
    "    - prolyferation of hondroblast (interstitial growth; length of bones)\n",
    "    - size of hondroblast\n",
    "    - defferenciation of hondroblast\n",
    "</br>\n"
   ]
  }
 ],
 "metadata": {
  "kernelspec": {
   "display_name": "Python 3 (ipykernel)",
   "language": "python",
   "name": "python3"
  },
  "language_info": {
   "codemirror_mode": {
    "name": "ipython",
    "version": 3
   },
   "file_extension": ".py",
   "mimetype": "text/x-python",
   "name": "python",
   "nbconvert_exporter": "python",
   "pygments_lexer": "ipython3",
   "version": "3.8.10"
  }
 },
 "nbformat": 4,
 "nbformat_minor": 5
}
