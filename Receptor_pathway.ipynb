{
 "cells": [
  {
   "cell_type": "markdown",
   "id": "310efe8d",
   "metadata": {},
   "source": [
    "# Endocrinology\n",
    "\n"
   ]
  },
  {
   "cell_type": "markdown",
   "id": "848d9366",
   "metadata": {},
   "source": [
    "## Receptor pathway"
   ]
  },
  {
   "cell_type": "markdown",
   "id": "f76fdfeb",
   "metadata": {},
   "source": [
    "**Hormone**:\n",
    "1. Peptide\n",
    "***\n",
    "    -water soluble\n",
    "    -2nd message pathway (receptor on the membrane; )\n",
    "2. Steroid\n",
    "***\n",
    "    -lipid soluble\n",
    "    -moving directly into the cell (receptor inside)"
   ]
  },
  {
   "cell_type": "markdown",
   "id": "f8568a9c",
   "metadata": {},
   "source": [
    "**Peptide pathway**\n",
    "***\n",
    "- receptor coupled with Gs-protein(G-stimulatory) (GPCR passing through the membrane 7 times - 7pathreseptor) \n",
    "- a peptide hormon (for ex epinefrine) attach to the reseptor, which change a conformation and affects on the G-protein\n",
    "- GDP(\"off\"), bounted to the Gs-protein, displace from it and GTP(\"on\") is add on and activate Gs\n",
    "- Gs-protein (+GTP) can move - it's periferal membrane proten\n",
    "- complex goes to effector enzime(adenylate cyclase) (present on the membrane). Enzime(GTPace) in AC cut the GTP, convert it to GDP(turn off the Gs) and use this energy to create a cAMP from ATP\n",
    "- cAMP activate a protein kinase(pkA)(multiple)\n",
    "- pkA phosphorylation a various protein\n",
    "***\n",
    "- oxytocin + receptor with Gq-protein(+GDP) -> activation of Gq (change GDP to GTP)\n",
    "- active Gq attach to the membrane enzyme phospho-lipase C, which cuts the PIP2 from membrane into cell by 2 fragments: DAG (activate pkC -> protein), IP3 (affect on smoothed endoplasmic reticulum -> Ca+ pushed into citoplasm from ER - activate kinases)\n",
    "***\n",
    "- steroid hormone (for ex testosterone) directly into cell (or nucleus) to the receptor\n",
    "- if receptor placed on the DNA, hormone activate specific gen - HRE (hormon responce element), which stimulate mitosis, proliferation, metabolizm\n",
    "***\n",
    "- PDE (phosphodiesterase) breaking up the cAMP or phospho-lipase C to prevent these pytheway to continuously occurring."
   ]
  }
 ],
 "metadata": {
  "kernelspec": {
   "display_name": "Python 3 (ipykernel)",
   "language": "python",
   "name": "python3"
  },
  "language_info": {
   "codemirror_mode": {
    "name": "ipython",
    "version": 3
   },
   "file_extension": ".py",
   "mimetype": "text/x-python",
   "name": "python",
   "nbconvert_exporter": "python",
   "pygments_lexer": "ipython3",
   "version": "3.8.10"
  }
 },
 "nbformat": 4,
 "nbformat_minor": 5
}
