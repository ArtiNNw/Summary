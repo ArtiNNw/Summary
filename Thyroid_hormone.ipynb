{
 "cells": [
  {
   "cell_type": "markdown",
   "id": "b7230bb3",
   "metadata": {},
   "source": [
    "## Thyroid hormone"
   ]
  },
  {
   "cell_type": "markdown",
   "id": "2b51286f",
   "metadata": {},
   "source": [
    "Hypothalamic pituitary thyroid axis:\n",
    "- hypothalamus(paraventricular nucleus) - TRH (thyroid releasing hormone)\n",
    "- anterior pituitary(Thyrotropes) - TSH (thyroid stimulating hormone)\n",
    "- thyroid gland\n",
    "    <br> Trough blood TSH binds on the receptor of the external cell membrane of thyroid gland. Due to Gs pathway, was synthesizing a basic unit of thyroid hormone - thyroglobulin, consisting of Tyrosine. Enzym (Thyroid peroxidase) iodinate the thyroglobulin's tyrosin . As result, we have Thyroxine(T4) - 2 molecules of Tyrosin with 4 molecules of I2 and Triodothironin(T3) -  2 molecules of Tyrosin with 3 molecules of I2, which are the Thyroid hormone.T4+T3 cuts off from the Thyroglobulin molecule and migrate into bloodstream</br>\n",
    "***\n",
    "**Targen organs**\n",
    "- cell\n",
    "<br>Increase the protein(Na-K pump) production => rise of metabolizm (intake ATP)</br>\n",
    "- liver\n",
    "<br>T3+T4 affect on glucogenolysis and gluconeogenesis. Increase the uptake of LDL(low density lipid - bad holesterol)</br>\n",
    "- CNS\n",
    "<br>Increase the number of dindrite, synaps, myelination</br>\n",
    "- bone \n",
    "<br>Maintaining the balance between osteoblast and octeoclat. Stimulate interstitial growth. As result - endochondral ossification.</br>\n",
    "- adipose\n",
    "<br>Stimulate lipolysis (enzyme)</br>\n",
    "- muscle\n",
    "<br>Regulate catabolism and anabolism of protein</br>\n",
    "- heart\n",
    "<br>Increasing production of membrane receptor, which are bounding the Epinephrine or Norepinephrine - increase cardiac output -> blood pressure and heart rate</br>\n",
    "- skin\n",
    "<br>Produse sweat</br>\n",
    "- GI tract\n",
    "<br>Increase motility and secretions</br>"
   ]
  },
  {
   "cell_type": "code",
   "execution_count": null,
   "id": "b35f4a14",
   "metadata": {},
   "outputs": [],
   "source": []
  }
 ],
 "metadata": {
  "kernelspec": {
   "display_name": "Python 3 (ipykernel)",
   "language": "python",
   "name": "python3"
  },
  "language_info": {
   "codemirror_mode": {
    "name": "ipython",
    "version": 3
   },
   "file_extension": ".py",
   "mimetype": "text/x-python",
   "name": "python",
   "nbconvert_exporter": "python",
   "pygments_lexer": "ipython3",
   "version": "3.8.10"
  }
 },
 "nbformat": 4,
 "nbformat_minor": 5
}
