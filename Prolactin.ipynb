{
 "cells": [
  {
   "cell_type": "markdown",
   "id": "cb71d6f2",
   "metadata": {},
   "source": [
    "## Prolactin"
   ]
  },
  {
   "cell_type": "markdown",
   "id": "cbda0bd7",
   "metadata": {},
   "source": [
    "(for milk production)\n",
    "***\n",
    "**PIH (prolactin inhibiting hormone; dophamin)** releasing by Arcuate nucleus and inhibit the secretion of **prolactin** in lactotrope\n",
    "\n",
    "<br>**TRH (thyrotropin releasiong hormone)** - by Paraventricular nucleus and stimulate the secretion of **prolactin** in lactotrope</br>\n",
    "\n",
    "<br>**Estrogen** can directly stimulate the lactin production in lactotrope or inhibit the Arcuate nucleus (and dophamin). But can inhibit the action of prolactin in alveolar cell (if estrogen level extremely high)</br>\n",
    "\n",
    "<br>**Breastfeading**\n",
    "stimulate the Paraventricular nucleus (by mechanoreseptors on the nipple) and TRH</br>\n",
    "***\n",
    "**Mammary gland**\n",
    "<br>Prolactin activate the receptor on alveolar cells -> [JAK -> STAT](http://localhost:8888/notebooks/repo/Summary/GH.ipynb) -> synthesis of milk protein excreted out or for opening channels (ions, other proteins, cholesterol) - for nutrition support for the baby</br>"
   ]
  }
 ],
 "metadata": {
  "kernelspec": {
   "display_name": "Python 3 (ipykernel)",
   "language": "python",
   "name": "python3"
  },
  "language_info": {
   "codemirror_mode": {
    "name": "ipython",
    "version": 3
   },
   "file_extension": ".py",
   "mimetype": "text/x-python",
   "name": "python",
   "nbconvert_exporter": "python",
   "pygments_lexer": "ipython3",
   "version": "3.8.10"
  }
 },
 "nbformat": 4,
 "nbformat_minor": 5
}
