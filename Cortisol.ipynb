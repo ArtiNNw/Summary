{
 "cells": [
  {
   "cell_type": "markdown",
   "id": "324ba025",
   "metadata": {},
   "source": [
    "## Cortisol"
   ]
  },
  {
   "cell_type": "markdown",
   "id": "bee32811",
   "metadata": {},
   "source": [
    "releasing by Paravetricular nucleus\n",
    "<br>in Adrenal Gland - zona Fasiculata</br>\n",
    "<br>CRH -> ACTH (Adrenocorticotropic Hormone)</br>\n",
    "***\n",
    "In Adrenal Gland the ACTH activate Gs and then pkA, which phosphorylate steps of synthesis of cortisol from cholesterol\n",
    "***\n",
    "- In blood cortisol bind on transport protein - albumin (25%) and transcortin (75%)  \n",
    "- In muscle - stimulate the production of proteases which destroy muscles protein (protein catabolism). The same things occure in **adipose tissue**.\n",
    "- In liver - The aminoacids from muscles and glycerol from adipose tissue take part in gluconeogenesis. Increase the blood glucose lvl. \n",
    "<br>\n",
    "Cortisol directly effect on syntesis of glycogen from glucose (glycogenesis). And not directly on glycogenolysis by affecting on norepinephrine receptors on liver. The same in smooth muscle, cortisol increase the sensativity of norepinephrine receptors, and n.e. cause the contraction of blood vessel. \n",
    "</br> \n",
    "- Depress immune system"
   ]
  },
  {
   "cell_type": "code",
   "execution_count": null,
   "id": "624e83c5",
   "metadata": {},
   "outputs": [],
   "source": []
  }
 ],
 "metadata": {
  "kernelspec": {
   "display_name": "Python 3 (ipykernel)",
   "language": "python",
   "name": "python3"
  },
  "language_info": {
   "codemirror_mode": {
    "name": "ipython",
    "version": 3
   },
   "file_extension": ".py",
   "mimetype": "text/x-python",
   "name": "python",
   "nbconvert_exporter": "python",
   "pygments_lexer": "ipython3",
   "version": "3.8.10"
  }
 },
 "nbformat": 4,
 "nbformat_minor": 5
}
